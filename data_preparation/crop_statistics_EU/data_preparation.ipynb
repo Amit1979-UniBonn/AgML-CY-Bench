{
 "cells": [
  {
   "cell_type": "markdown",
   "metadata": {},
   "source": [
    "# Harmonized subnational crop statistics of the EU"
   ]
  },
  {
   "cell_type": "markdown",
   "metadata": {},
   "source": [
    "## Data access\n",
    "\n",
    "The data is available from [Agri4Cast Data Portal](https://agri4cast.jrc.ec.europa.eu/DataPortal/RequestDataResource.aspx?idResource=36&o=&r=n) of the European Commission's Joint Research Centre. You need to create an account to access the data."
   ]
  },
  {
   "cell_type": "markdown",
   "metadata": {},
   "source": [
    "## Data exploration"
   ]
  },
  {
   "cell_type": "markdown",
   "metadata": {},
   "source": [
    "### Columns and data types"
   ]
  },
  {
   "cell_type": "code",
   "execution_count": 53,
   "metadata": {},
   "outputs": [
    {
     "name": "stdout",
     "output_type": "stream",
     "text": [
      "\n",
      "\n",
      "  REGION    CROP_NAME  YEAR    VARIABLE     VALUE   UoM SOURCE CALCULATED_R CALCULATED_C CALCULATED_V ZERO_AS_NULL COHERENCE_APY COHERENCE_CROP\n",
      "0   AT11  Total wheat  1975        Area   32797.0    ha    NSI          NaN          Yes          NaN          NaN           Yes            NaN\n",
      "1   AT11  Total wheat  1975  Production  108564.0     t    NSI          NaN          Yes          NaN          NaN           Yes            NaN\n",
      "2   AT11  Total wheat  1975       Yield      3.31  t/ha    NSI          NaN          Yes          NaN          NaN           Yes            NaN\n",
      "3   AT11  Total wheat  1976        Area   37650.0    ha    NSI          NaN          Yes          NaN          NaN           Yes            NaN\n",
      "4   AT11  Total wheat  1976  Production  151341.0     t    NSI          NaN          Yes          NaN          NaN           Yes            NaN\n",
      "\n",
      "\n",
      "CALCULATED_R [nan 'Yes']\n",
      "CALCULATED_C ['Yes' nan]\n",
      "CALCULATED_V [nan 'Yes']\n",
      "ZERO_AS_NULL [nan 'Yes']\n",
      "COHERENCE_APY ['Yes' nan 'No']\n",
      "COHERENCE_CROP [nan 'Yes' 'No']\n"
     ]
    }
   ],
   "source": [
    "import pandas as pd\n",
    "\n",
    "data_path = \"C:/Users/paude006/Documents/AgML/Data\"\n",
    "# filename = \"crop_statistics_EU_2021.csv\"\n",
    "# crop_stats_df = pd.read_csv(data_path + \"/\" + filename,\n",
    "#                             delimiter=\";\",\n",
    "#                             header=0)\n",
    "# print(crop_stats_df.head(5).to_string())\n",
    "# print(\"\\n\")\n",
    "\n",
    "filename = \"crop_statistics_EU_2023.csv\"\n",
    "crop_stats_df = pd.read_csv(data_path + \"/\" + filename,\n",
    "                            delimiter=\";\",\n",
    "                            # set all to str, some columns have mixed types (e.g. str and nan)\n",
    "                            dtype=\"str\",\n",
    "                            header=0)\n",
    "print(\"\\n\")\n",
    "print(crop_stats_df.head(5).to_string())\n",
    "# set YEAR and VALUE to numeric\n",
    "crop_stats_df = crop_stats_df.astype({\"YEAR\" : \"int64\", \"VALUE\" : \"float64\"})\n",
    "print(\"\\n\")\n",
    "# print(crop_stats_df.dtypes)\n",
    "for c in crop_stats_df.columns[7:]:\n",
    "  print(c, crop_stats_df[c].unique())"
   ]
  },
  {
   "cell_type": "markdown",
   "metadata": {},
   "source": [
    "### Select crops"
   ]
  },
  {
   "cell_type": "code",
   "execution_count": 55,
   "metadata": {},
   "outputs": [
    {
     "name": "stdout",
     "output_type": "stream",
     "text": [
      "\n",
      "\n",
      "Crops ['Soft wheat' 'Grain maize']\n",
      "\n",
      "\n",
      "Crop: Soft wheat\n",
      "---------------------\n",
      "    REGION   CROP_NAME  YEAR VARIABLE  VALUE   UoM SOURCE CALCULATED_R CALCULATED_C CALCULATED_V ZERO_AS_NULL COHERENCE_APY COHERENCE_CROP\n",
      "67    AT11  Soft wheat  1995    Yield  4.798  t/ha    NSI          NaN          NaN          Yes          NaN           Yes            Yes\n",
      "76    AT11  Soft wheat  1996    Yield  4.770  t/ha    NSI          NaN          NaN          Yes          NaN           Yes            Yes\n",
      "85    AT11  Soft wheat  1997    Yield  4.339  t/ha    NSI          NaN          NaN          Yes          NaN           Yes            Yes\n",
      "94    AT11  Soft wheat  1998    Yield  4.563  t/ha    NSI          NaN          NaN          Yes          NaN           Yes            Yes\n",
      "103   AT11  Soft wheat  1999    Yield  4.938  t/ha    NSI          NaN          NaN          Yes          NaN           Yes            Yes\n",
      "\n",
      "\n",
      "Crop: Grain maize\n",
      "---------------------\n",
      "       REGION    CROP_NAME  YEAR VARIABLE  VALUE   UoM SOURCE CALCULATED_R CALCULATED_C CALCULATED_V ZERO_AS_NULL COHERENCE_APY COHERENCE_CROP\n",
      "238681   AT11  Grain maize  1975    Yield  5.470  t/ha    NSI          NaN          NaN          Yes          NaN           Yes            NaN\n",
      "238684   AT11  Grain maize  1976    Yield  4.556  t/ha    NSI          NaN          NaN          Yes          NaN           Yes            NaN\n",
      "238687   AT11  Grain maize  1977    Yield  6.689  t/ha    NSI          NaN          NaN          Yes          NaN           Yes            NaN\n",
      "238690   AT11  Grain maize  1978    Yield  6.150  t/ha    NSI          NaN          NaN          Yes          NaN           Yes            NaN\n",
      "238693   AT11  Grain maize  1979    Yield  6.710  t/ha    NSI          NaN          NaN          Yes          NaN           Yes            NaN\n"
     ]
    }
   ],
   "source": [
    "crops = crop_stats_df[\"CROP_NAME\"].unique()\n",
    "print(\"\\n\")\n",
    "print(\"Crops\", crops)\n",
    "\n",
    "selected_crops = [\"Soft wheat\", \"Grain maize\"]\n",
    "crop_stats_df = crop_stats_df[crop_stats_df[\"CROP_NAME\"].isin(selected_crops)]\n",
    "\n",
    "for cr in selected_crops:\n",
    "  print(\"\\n\")\n",
    "  print(\"Crop:\", cr)\n",
    "  print(\"---------------------\")\n",
    "  # # crop area\n",
    "  # print(crop_stats_df[(crop_stats_df[\"VARIABLE\"] == \"Area\") &\n",
    "  #                     (crop_stats_df[\"CROP_NAME\"] == cr)].head(5).to_string())\n",
    "  # print(\"\\n\")\n",
    "\n",
    "  # crop yield\n",
    "  print(crop_stats_df[(crop_stats_df[\"VARIABLE\"] == \"Yield\") &\n",
    "                      (crop_stats_df[\"CROP_NAME\"] == cr)].head(5).to_string())"
   ]
  },
  {
   "cell_type": "markdown",
   "metadata": {},
   "source": [
    "### Summary by crop and country"
   ]
  },
  {
   "cell_type": "code",
   "execution_count": 56,
   "metadata": {},
   "outputs": [
    {
     "name": "stdout",
     "output_type": "stream",
     "text": [
      "\n",
      "\n",
      "Crop: Soft wheat\n",
      "             CROP COUNTRY  MIN_YEAR  MAX_YEAR  NUM_YEARS  NUM_REGIONS  DATA_SIZE\n",
      "row0   Soft wheat      AT      1995      2020         26            9        234\n",
      "row1   Soft wheat      BE      1975      2020         43           10        438\n",
      "row2   Soft wheat      BG      1995      2020         16            6         65\n",
      "row3   Soft wheat      CY      2000      2020         21            1         21\n",
      "row4   Soft wheat      CZ      1998      2020         23           14        322\n",
      "row5   Soft wheat      DE      1999      2020         22          253       6973\n",
      "row6   Soft wheat      DK      2006      2020         15           11        165\n",
      "row7   Soft wheat      EE      2004      2020         17            5         85\n",
      "row8   Soft wheat      EL      1998      2019         22           52       1047\n",
      "row9   Soft wheat      ES      1998      2020         23           46       1108\n",
      "row10  Soft wheat      FI      1998      2020         23           19        334\n",
      "row11  Soft wheat      FR      1989      2020         32           94       3028\n",
      "row12  Soft wheat      HR      2008      2020         13            2         26\n",
      "row13  Soft wheat      HU      2002      2020         19           20        380\n",
      "row14  Soft wheat      IE      1990      2020         21            3         63\n",
      "row15  Soft wheat      IT      1995      2020         26           97       2328\n",
      "row16  Soft wheat      LT      2000      2020         21           10        209\n",
      "row17  Soft wheat      LU      1975      2020         46            1         46\n",
      "row18  Soft wheat      LV      1997      2018         22            5        110\n",
      "row19  Soft wheat      MT      2000      2020         21            1         21\n",
      "row20  Soft wheat      NL      1994      2020         27           12        324\n",
      "row21  Soft wheat      PL      2003      2020         18           16        301\n",
      "row22  Soft wheat      PT      1986      2020         35            7        245\n",
      "row23  Soft wheat      RO      1998      2020         23           40        954\n",
      "row24  Soft wheat      SE      1990      2020         31           16        437\n",
      "row25  Soft wheat      SI      2007      2020         14            2         28\n",
      "row26  Soft wheat      SK      2017      2018          2            8         16\n",
      "\n",
      "\n",
      "Crop: Grain maize\n",
      "              CROP COUNTRY  MIN_YEAR  MAX_YEAR  NUM_YEARS  NUM_REGIONS  DATA_SIZE\n",
      "row0   Grain maize      AT      1975      2020         46            9        414\n",
      "row1   Grain maize      BE      2011      2020         10           10        106\n",
      "row2   Grain maize      BG      1991      2020         30            6        180\n",
      "row3   Grain maize      CY      2000      2020         21            1         21\n",
      "row4   Grain maize      CZ      2005      2020         16           14        219\n",
      "row5   Grain maize      DE      2010      2020         11           12        131\n",
      "row6   Grain maize      DK      2011      2020         10           11        110\n",
      "row7   Grain maize      EE      2000      2020         21            5        105\n",
      "row8   Grain maize      EL      2009      2019         11           52        563\n",
      "row9   Grain maize      ES      1998      2020         23           46       1157\n",
      "row10  Grain maize      FI      2000      2020         21           19        399\n",
      "row11  Grain maize      FR      1989      2020         32           94       3026\n",
      "row12  Grain maize      HR      2005      2020         16            2         32\n",
      "row13  Grain maize      HU      1996      2020         25           20        492\n",
      "row14  Grain maize      IE      2000      2020         21            3         63\n",
      "row15  Grain maize      IT      1995      2020         26           90       2564\n",
      "row16  Grain maize      LT      2000      2020         21           10        210\n",
      "row17  Grain maize      LU      2000      2020         21            1         21\n",
      "row18  Grain maize      LV      2000      2020         21            6        126\n",
      "row19  Grain maize      MT      2000      2020         21            1         21\n",
      "row20  Grain maize      NL      2008      2020         13           12        156\n",
      "row21  Grain maize      PL      2003      2020         18           16        301\n",
      "row22  Grain maize      PT      1986      2020         35            7        245\n",
      "row23  Grain maize      RO      1998      2020         23           40        954\n",
      "row24  Grain maize      SE      2007      2020         10            1         10\n",
      "row25  Grain maize      SI      2007      2020         14            2         28\n",
      "row26  Grain maize      SK      2007      2018         12            8         94\n"
     ]
    }
   ],
   "source": [
    "def getCropCountrySummary(crop, yield_df):\n",
    "  countries_summary = {}\n",
    "  countries = yield_df[\"REGION\"].str[:2].unique()\n",
    "  row_idx = 0\n",
    "  column_names = [\"CROP\", \"COUNTRY\", \"MIN_YEAR\", \"MAX_YEAR\", \"NUM_YEARS\",\n",
    "                  \"NUM_REGIONS\", \"DATA_SIZE\"]\n",
    "  for cn in countries:\n",
    "    yield_cn_df = yield_df[yield_df[\"REGION\"].str[:2] == cn]\n",
    "    if (len(yield_cn_df.index) <= 1):\n",
    "      continue\n",
    "\n",
    "    min_year = yield_cn_df[\"YEAR\"].min()\n",
    "    max_year = yield_cn_df[\"YEAR\"].max()\n",
    "    num_years = len(yield_cn_df[\"YEAR\"].unique())\n",
    "    num_regions = yield_cn_df[yield_cn_df[\"YEAR\"] == max_year][\"REGION\"].count()\n",
    "    data_size = yield_cn_df[\"YEAR\"].count()\n",
    "    countries_summary[\"row\" + str(row_idx)] = [crop, cn, min_year, max_year, num_years,\n",
    "                                              num_regions, data_size]\n",
    "    row_idx += 1\n",
    "\n",
    "  return countries_summary, column_names\n",
    "\n",
    "for cr in selected_crops:\n",
    "  print(\"\\n\")\n",
    "  print(\"Crop:\", cr)\n",
    "  crop_yield_df = crop_stats_df[(crop_stats_df[\"VARIABLE\"] == \"Yield\") &\n",
    "                                (crop_stats_df[\"CROP_NAME\"] == cr)]\n",
    "  countries_summary, column_names = getCropCountrySummary(cr, crop_yield_df)\n",
    "  countries_summary_df = pd.DataFrame.from_dict(countries_summary, columns=column_names,\n",
    "                                                orient=\"index\")\n",
    "  print(countries_summary_df.head(30).to_string())"
   ]
  },
  {
   "cell_type": "markdown",
   "metadata": {},
   "source": [
    "## Data preparation"
   ]
  },
  {
   "cell_type": "markdown",
   "metadata": {},
   "source": [
    "### Data cleaning\n",
    "\n",
    "Filter based on\n",
    "* Yield not null\n",
    "* Coherence tests (e.g. COHERENCE_BETWEEN_A_P_Y, COHERENCE_TOTAL_WHEAT)\n",
    "* Data size check (e.g. >= 100)\n",
    "* Number of years (e.g. >= 15)"
   ]
  },
  {
   "cell_type": "code",
   "execution_count": 57,
   "metadata": {},
   "outputs": [
    {
     "name": "stdout",
     "output_type": "stream",
     "text": [
      "\n",
      "\n",
      "Crop: Soft wheat\n",
      "             CROP COUNTRY  MIN_YEAR  MAX_YEAR  NUM_YEARS  NUM_REGIONS  DATA_SIZE\n",
      "row0   Soft wheat      AT      1995      2020         26            9        171\n",
      "row1   Soft wheat      BE      2000      2020         21           10        216\n",
      "row2   Soft wheat      CZ      2000      2020         21           14        294\n",
      "row3   Soft wheat      DK      2006      2020         15           11        165\n",
      "row4   Soft wheat      EL      1998      2019         22           46        992\n",
      "row5   Soft wheat      ES      1998      2020         23           45        721\n",
      "row6   Soft wheat      FI      2000      2020         21           17        201\n",
      "row7   Soft wheat      FR      1989      2020         32           93       2571\n",
      "row8   Soft wheat      HU      2002      2020         19           18        336\n",
      "row9   Soft wheat      IT      1995      2020         26           80       1833\n",
      "row10  Soft wheat      LT      2000      2020         21           10        209\n",
      "row11  Soft wheat      NL      2000      2020         21           12        243\n",
      "row12  Soft wheat      PL      2003      2020         18           16        301\n",
      "row13  Soft wheat      PT      1986      2020         35            6        216\n",
      "row14  Soft wheat      RO      1998      2020         23           31        455\n",
      "row15  Soft wheat      SE      2000      2020         21           16        327\n",
      "\n",
      "\n",
      "Crop: Grain maize\n",
      "              CROP COUNTRY  MIN_YEAR  MAX_YEAR  NUM_YEARS  NUM_REGIONS  DATA_SIZE\n",
      "row0   Grain maize      AT      1995      2020         26            9        171\n",
      "row1   Grain maize      BE      2000      2020         21           10        216\n",
      "row2   Grain maize      CZ      2000      2020         21           14        294\n",
      "row3   Grain maize      DK      2006      2020         15           11        165\n",
      "row4   Grain maize      EL      1998      2019         22           46        992\n",
      "row5   Grain maize      ES      1998      2020         23           45        721\n",
      "row6   Grain maize      FI      2000      2020         21           17        201\n",
      "row7   Grain maize      FR      1989      2020         32           93       2571\n",
      "row8   Grain maize      HU      2002      2020         19           18        336\n",
      "row9   Grain maize      IT      1995      2020         26           80       1833\n",
      "row10  Grain maize      LT      2000      2020         21           10        209\n",
      "row11  Grain maize      NL      2000      2020         21           12        243\n",
      "row12  Grain maize      PL      2003      2020         18           16        301\n",
      "row13  Grain maize      PT      1986      2020         35            6        216\n",
      "row14  Grain maize      RO      1998      2020         23           31        455\n",
      "row15  Grain maize      SE      2000      2020         21           16        327\n"
     ]
    }
   ],
   "source": [
    "# Data size requirements\n",
    "min_num_years = 15\n",
    "min_data_size = 100\n",
    "\n",
    "yield_df = None\n",
    "for cr in selected_crops:\n",
    "  print(\"\\n\")\n",
    "  print(\"Crop:\", cr)\n",
    "  crop_yield_df = crop_stats_df[(crop_stats_df[\"VARIABLE\"] == \"Yield\") &\n",
    "                                (crop_stats_df[\"CROP_NAME\"] == cr)]\n",
    "  crop_yield_df = crop_yield_df[(crop_yield_df[\"COHERENCE_APY\"] == \"Yes\") &\n",
    "                                (crop_yield_df[\"COHERENCE_CROP\"] == \"Yes\")]\n",
    "  crop_yield_df = crop_yield_df.dropna(subset=[\"VALUE\"])\n",
    "\n",
    "  countries = crop_yield_df[\"REGION\"].str[:2].unique()\n",
    "  for cn in countries:\n",
    "    yield_cn_df = crop_yield_df[crop_yield_df[\"REGION\"].str[:2] == cn]\n",
    "    num_years = len(yield_cn_df[\"YEAR\"].unique())\n",
    "    data_size = yield_cn_df[\"YEAR\"].count()\n",
    "    if ((num_years >= min_num_years) &\n",
    "        (data_size >= min_data_size)):\n",
    "      if (yield_df is None):\n",
    "        yield_df = yield_cn_df\n",
    "      else:\n",
    "        yield_df = pd.concat([yield_df, yield_cn_df], axis=0)\n",
    "\n",
    "  countries_summary, column_names = getCropCountrySummary(cr, yield_df)\n",
    "  countries_summary_df = pd.DataFrame.from_dict(countries_summary, columns=column_names,\n",
    "                                                orient=\"index\")\n",
    "  print(countries_summary_df.head(30).to_string())"
   ]
  },
  {
   "cell_type": "markdown",
   "metadata": {},
   "source": [
    "### Save the data"
   ]
  },
  {
   "cell_type": "code",
   "execution_count": 58,
   "metadata": {},
   "outputs": [
    {
     "name": "stdout",
     "output_type": "stream",
     "text": [
      "    REGION   CROP_NAME  YEAR  YIELD\n",
      "67    AT11  Soft wheat  1995  4.798\n",
      "76    AT11  Soft wheat  1996  4.770\n",
      "85    AT11  Soft wheat  1997  4.339\n",
      "94    AT11  Soft wheat  1998  4.563\n",
      "103   AT11  Soft wheat  1999  4.938\n"
     ]
    }
   ],
   "source": [
    "yield_df = yield_df.rename(columns={ \"VALUE\" : \"YIELD\"})\n",
    "yield_df = yield_df.drop(columns=[\"VARIABLE\", \"UoM\", \"SOURCE\",\n",
    "                                  \"CALCULATED_R\", \"CALCULATED_C\", \"CALCULATED_V\",\n",
    "                                  \"ZERO_AS_NULL\", \"COHERENCE_APY\", \"COHERENCE_CROP\"])\n",
    "print(yield_df.head(5).to_string())\n",
    "yield_df.to_csv(data_path + \"/\" + \"YIELD_EU.csv\")"
   ]
  }
 ],
 "metadata": {
  "kernelspec": {
   "display_name": "Python 3",
   "language": "python",
   "name": "python3"
  },
  "language_info": {
   "codemirror_mode": {
    "name": "ipython",
    "version": 3
   },
   "file_extension": ".py",
   "mimetype": "text/x-python",
   "name": "python",
   "nbconvert_exporter": "python",
   "pygments_lexer": "ipython3",
   "version": "3.11.6"
  }
 },
 "nbformat": 4,
 "nbformat_minor": 2
}
